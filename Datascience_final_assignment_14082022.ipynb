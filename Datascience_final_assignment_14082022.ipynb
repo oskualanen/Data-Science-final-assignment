{
  "metadata": {
    "language_info": {
      "codemirror_mode": {
        "name": "python",
        "version": 3
      },
      "file_extension": ".py",
      "mimetype": "text/x-python",
      "name": "python",
      "nbconvert_exporter": "python",
      "pygments_lexer": "ipython3",
      "version": "3.8"
    },
    "kernelspec": {
      "name": "python",
      "display_name": "Pyolite",
      "language": "python"
    }
  },
  "nbformat_minor": 4,
  "nbformat": 4,
  "cells": [
    {
      "cell_type": "markdown",
      "source": "# My Jupyter Notebook on IBM Watson Studio\n",
      "metadata": {}
    },
    {
      "cell_type": "markdown",
      "source": "<b> Osku Alanen </b>\n<br> Data Scientist",
      "metadata": {}
    },
    {
      "cell_type": "markdown",
      "source": "<i> I am interested in data science because reading and understanding data is one of the most important skills in the future. Additionally, I am fascinated by the applications of machine learning and I wish to be understand it better. </i>",
      "metadata": {}
    },
    {
      "cell_type": "markdown",
      "source": "### This code will demonstrate the use of a simple calculation:",
      "metadata": {}
    },
    {
      "cell_type": "code",
      "source": "2*2",
      "metadata": {
        "trusted": true
      },
      "execution_count": 1,
      "outputs": [
        {
          "execution_count": 1,
          "output_type": "execute_result",
          "data": {
            "text/plain": "4"
          },
          "metadata": {}
        }
      ]
    },
    {
      "cell_type": "markdown",
      "source": "<hr>",
      "metadata": {}
    },
    {
      "cell_type": "markdown",
      "source": "This is a list:\n<ol>\n<li>Data</li>\n<li>Science</li>\n<li>is</li>\n<li>cool</li>\n</ol>",
      "metadata": {}
    },
    {
      "cell_type": "markdown",
      "source": "This is an alternative list:\n\n<ul>\n<li>Data</li>\n<li>Science</li>\n<li>is</li>\n<li>cool</li> \n</ul>",
      "metadata": {}
    },
    {
      "cell_type": "markdown",
      "source": "| Letters | Numbers | Special Characters |\n| :- | -: | :-: |\n| L | 1 | $\n| B | 3 | &",
      "metadata": {}
    },
    {
      "cell_type": "markdown",
      "source": "~~This is a demonstration of strikethrough~~",
      "metadata": {}
    },
    {
      "cell_type": "code",
      "source": "",
      "metadata": {},
      "execution_count": null,
      "outputs": []
    }
  ]
}